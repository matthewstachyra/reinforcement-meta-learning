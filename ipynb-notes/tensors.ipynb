{
 "cells": [
  {
   "cell_type": "markdown",
   "metadata": {},
   "source": [
    "# Pytorch "
   ]
  },
  {
   "cell_type": "code",
   "execution_count": 5,
   "metadata": {},
   "outputs": [],
   "source": [
    "import numpy as np\n",
    "import torch\n",
    "import torchvision\n",
    "import torchvision.transforms as transforms"
   ]
  },
  {
   "cell_type": "markdown",
   "metadata": {},
   "source": [
    "## Tensors"
   ]
  },
  {
   "cell_type": "markdown",
   "metadata": {},
   "source": [
    "Specialized data structure. Similar to arrays or matrices. Simlar to numpy arrays except that these can run on GPUs or other hardware accelerators.\n",
    "\n",
    "Used to encode the inputs and outputs of a model, as well as the model's parameters.\n",
    "\n",
    "Create from `torch` with `torch.tensor()`. Numpy is similar with creation from `np` or the package name, and then `np.array()`.\n",
    "\n",
    "It has methods we can call on it. It has attributes. (Because like other objects, it has function defined and variables stored within it; we can think of it in this way as designed as a class or struct)."
   ]
  },
  {
   "cell_type": "code",
   "execution_count": 4,
   "metadata": {},
   "outputs": [
    {
     "data": {
      "text/plain": [
       "[[1, 2], [3, 4]]"
      ]
     },
     "execution_count": 4,
     "metadata": {},
     "output_type": "execute_result"
    }
   ],
   "source": [
    "# directly instantiate tensor from native data structures\n",
    "data = [[1, 2], [3, 4]]\n",
    "x_data = torch.tensor(data)\n",
    "data"
   ]
  },
  {
   "cell_type": "code",
   "execution_count": 6,
   "metadata": {},
   "outputs": [
    {
     "data": {
      "text/plain": [
       "array([[1, 2],\n",
       "       [3, 4]])"
      ]
     },
     "execution_count": 6,
     "metadata": {},
     "output_type": "execute_result"
    }
   ],
   "source": [
    "# from numpy array\n",
    "data_np = np.array(data)\n",
    "data_np"
   ]
  },
  {
   "cell_type": "code",
   "execution_count": 11,
   "metadata": {},
   "outputs": [
    {
     "name": "stdout",
     "output_type": "stream",
     "text": [
      "tensor([[0.3233, 0.1820, 0.8653],\n",
      "        [0.4579, 0.7938, 0.2758]])\n",
      "tensor([[1., 1., 1.],\n",
      "        [1., 1., 1.]])\n",
      "tensor([[0., 0., 0.],\n",
      "        [0., 0., 0.]])\n"
     ]
    }
   ],
   "source": [
    "# other methods\n",
    "shape = (2, 3, )\n",
    "rand_tensor = torch.rand(shape)\n",
    "ones_tensor = torch.ones(shape)\n",
    "zeros_tensor = torch.zeros(shape)\n",
    "print(rand_tensor)\n",
    "print(ones_tensor)\n",
    "print(zeros_tensor)"
   ]
  },
  {
   "cell_type": "code",
   "execution_count": 12,
   "metadata": {},
   "outputs": [
    {
     "name": "stdout",
     "output_type": "stream",
     "text": [
      "tensor shape torch.Size([2, 3])\n",
      "tensor type torch.float32\n",
      "tensor storage device cpu\n"
     ]
    }
   ],
   "source": [
    "# some attributes of tensors\n",
    "print(f\"tensor shape {rand_tensor.shape}\")\n",
    "print(f\"tensor type {rand_tensor.dtype}\")\n",
    "print(f\"tensor storage device {rand_tensor.device}\")"
   ]
  },
  {
   "cell_type": "code",
   "execution_count": 13,
   "metadata": {},
   "outputs": [],
   "source": [
    "# We move our tensor to the GPU if available\n",
    "if torch.cuda.is_available():\n",
    "    tensor = tensor.to(\"cuda\")"
   ]
  },
  {
   "cell_type": "code",
   "execution_count": 18,
   "metadata": {},
   "outputs": [
    {
     "name": "stdout",
     "output_type": "stream",
     "text": [
      "tensor([[0.3233, 0.1820, 0.8653],\n",
      "        [0.4579, 0.7938, 0.2758]])\n",
      "\n",
      "tensor([0.4579, 0.7938, 0.2758])\n",
      "\n",
      "tensor([0.1820, 0.7938])\n"
     ]
    }
   ],
   "source": [
    "# has standard numpy like indexing\n",
    "print(rand_tensor)\n",
    "print()\n",
    "print(rand_tensor[1])\n",
    "print()\n",
    "print(rand_tensor[:, -2])"
   ]
  },
  {
   "cell_type": "code",
   "execution_count": 23,
   "metadata": {},
   "outputs": [
    {
     "name": "stdout",
     "output_type": "stream",
     "text": [
      "tensor([[0.3233, 0.1820, 0.8653],\n",
      "        [0.4579, 0.7938, 0.2758],\n",
      "        [1.0000, 1.0000, 1.0000],\n",
      "        [1.0000, 1.0000, 1.0000]])\n"
     ]
    }
   ],
   "source": [
    "# joining tensors\n",
    "# dim=0 means rows because in matrics the dimension is rxc\n",
    "# dim=1 means cols\n",
    "joined_tensor_along_rows = torch.concat([rand_tensor, ones_tensor], dim=0)\n",
    "print(joined_tensor_ along_rows)"
   ]
  },
  {
   "cell_type": "code",
   "execution_count": 25,
   "metadata": {},
   "outputs": [
    {
     "name": "stdout",
     "output_type": "stream",
     "text": [
      "tensor([[0.3233, 0.1820, 0.8653, 1.0000, 1.0000, 1.0000],\n",
      "        [0.4579, 0.7938, 0.2758, 1.0000, 1.0000, 1.0000]])\n"
     ]
    }
   ],
   "source": [
    "\n",
    "joined_tensor_along_cols = torch.concat([rand_tensor, ones_tensor], dim=1)\n",
    "print(joined_tensor_along_cols)"
   ]
  },
  {
   "cell_type": "code",
   "execution_count": 28,
   "metadata": {},
   "outputs": [],
   "source": [
    "y1 = rand_tensor @ rand_tensor.T"
   ]
  },
  {
   "cell_type": "code",
   "execution_count": 30,
   "metadata": {},
   "outputs": [
    {
     "name": "stdout",
     "output_type": "stream",
     "text": [
      "tensor([[0.3233, 0.1820, 0.8653],\n",
      "        [0.4579, 0.7938, 0.2758]])\n",
      "tensor([[0.8864, 0.5312],\n",
      "        [0.5312, 0.9159]])\n"
     ]
    },
    {
     "data": {
      "text/plain": [
       "tensor([[0.8864, 0.5312],\n",
       "        [0.5312, 0.9159]])"
      ]
     },
     "execution_count": 30,
     "metadata": {},
     "output_type": "execute_result"
    }
   ],
   "source": [
    "print(rand_tensor)\n",
    "print(y1)\n",
    "y1"
   ]
  },
  {
   "cell_type": "code",
   "execution_count": 33,
   "metadata": {},
   "outputs": [
    {
     "name": "stdout",
     "output_type": "stream",
     "text": [
      "tensor([[1, 1],\n",
      "        [2, 2]])\n",
      "tensor([[1, 1],\n",
      "        [2, 2]])\n"
     ]
    }
   ],
   "source": [
    "t1 = torch.tensor([[1,1],[2,2]])\n",
    "t2 = torch.tensor([[1,1],[2,2]])\n",
    "print(t1)\n",
    "print(t2)"
   ]
  },
  {
   "cell_type": "code",
   "execution_count": 37,
   "metadata": {},
   "outputs": [
    {
     "data": {
      "text/plain": [
       "tensor([[3, 3],\n",
       "        [6, 6]])"
      ]
     },
     "execution_count": 37,
     "metadata": {},
     "output_type": "execute_result"
    }
   ],
   "source": [
    "# matrix mult\n",
    "t1 @ t2"
   ]
  },
  {
   "cell_type": "code",
   "execution_count": 38,
   "metadata": {},
   "outputs": [
    {
     "data": {
      "text/plain": [
       "tensor([[3, 3],\n",
       "        [6, 6]])"
      ]
     },
     "execution_count": 38,
     "metadata": {},
     "output_type": "execute_result"
    }
   ],
   "source": [
    "# also matrix mult\n",
    "t1.matmul(t2)"
   ]
  },
  {
   "cell_type": "code",
   "execution_count": 39,
   "metadata": {},
   "outputs": [
    {
     "data": {
      "text/plain": [
       "tensor([[1, 1],\n",
       "        [4, 4]])"
      ]
     },
     "execution_count": 39,
     "metadata": {},
     "output_type": "execute_result"
    }
   ],
   "source": [
    "# element wise product\n",
    "t1 * t2\n",
    "t1.mul(t2)"
   ]
  },
  {
   "cell_type": "code",
   "execution_count": 42,
   "metadata": {},
   "outputs": [
    {
     "name": "stdout",
     "output_type": "stream",
     "text": [
      "tensor([[1, 1],\n",
      "        [2, 2]])\n"
     ]
    },
    {
     "data": {
      "text/plain": [
       "tensor(6)"
      ]
     },
     "execution_count": 42,
     "metadata": {},
     "output_type": "execute_result"
    }
   ],
   "source": [
    "# add all elements\n",
    "print(t1)\n",
    "agg = t1.sum()\n",
    "agg # 1 + 1 + 2 + 2 = 6"
   ]
  },
  {
   "cell_type": "code",
   "execution_count": null,
   "metadata": {},
   "outputs": [],
   "source": []
  }
 ],
 "metadata": {
  "kernelspec": {
   "display_name": "Python 3.10.6 ('master-thesis-rqFFn_mi')",
   "language": "python",
   "name": "python3"
  },
  "language_info": {
   "codemirror_mode": {
    "name": "ipython",
    "version": 3
   },
   "file_extension": ".py",
   "mimetype": "text/x-python",
   "name": "python",
   "nbconvert_exporter": "python",
   "pygments_lexer": "ipython3",
   "version": "3.10.6"
  },
  "orig_nbformat": 4,
  "vscode": {
   "interpreter": {
    "hash": "6803830149994344f405acd158f41316c80d4030c2f52c5a61d6af244d3bc4b6"
   }
  }
 },
 "nbformat": 4,
 "nbformat_minor": 2
}
