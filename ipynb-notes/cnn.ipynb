{
 "cells": [
  {
   "cell_type": "markdown",
   "metadata": {},
   "source": [
    "# Pytorch"
   ]
  },
  {
   "cell_type": "markdown",
   "metadata": {},
   "source": [
    "### CNN (Convolutional Neural Network)"
   ]
  },
  {
   "cell_type": "markdown",
   "metadata": {},
   "source": [
    "Convolutions are filters passed over the image of **some size** in **some stride**\n",
    "\n",
    "E.g., `self.conv1 = nn.Conv2d(3, 6, 5)` means \n",
    "- We run our filter on a shape of (3,) for the channels, and producing an output of shape (6,).\n",
    "- The 5 corresponds to the kernel size. This value can be an int or a float. When it is an int, like 5 here, that means the height and width of the kernel will be the same. In this example, the kernel is (5,5).\n",
    "\n",
    "https://towardsdatascience.com/pytorch-conv2d-weights-explained-ff7f68f652eb"
   ]
  },
  {
   "cell_type": "markdown",
   "metadata": {},
   "source": [
    "### Cross entropy loss (log loss)"
   ]
  },
  {
   "cell_type": "markdown",
   "metadata": {},
   "source": [
    "Measures performance for classification models that output a probability between 0 and 1.\n",
    "\n",
    "`-(y)(log(p))+(1-y)(log(1-p))`\n",
    "\n",
    "This formula makes sense because if we have a value of 0 or 1, the log loss is 0. Log loss off 0 means loss is 0.\n",
    "\n",
    "E.g., y=1, p=1, (1)(0) + (0)(0)\n",
    "\n",
    "E.g., y=1, p=0, (1)(0) + (0)(0)\n",
    "\n",
    "E.g., y=0, p=1, (0)(0) + (1)(0)\n",
    "\n"
   ]
  },
  {
   "cell_type": "code",
   "execution_count": 7,
   "metadata": {},
   "outputs": [],
   "source": [
    "import torch\n",
    "import torchvision\n",
    "import torchvision.transforms as transforms"
   ]
  },
  {
   "cell_type": "code",
   "execution_count": 8,
   "metadata": {},
   "outputs": [],
   "source": [
    "# recap, transforms are way to manipulate data\n",
    "# can transform the feature vector (e.g., using ToTensor())\n",
    "# can transform the labels (e.g., one-hot encoding or multilabel encoding)\n",
    "# compose() allows you to chain transforms\n",
    "# in this case, we are converting to a tensor, and then normalizing  ...\n",
    "transform = transforms.Compose(\n",
    "    [transforms.ToTensor(),\n",
    "    transforms.Normalize((0.5, 0.5, 0.5), (0.5, 0.5, 0.5))])\n",
    "\n",
    "batch_size = 4\n",
    "\n"
   ]
  },
  {
   "cell_type": "code",
   "execution_count": 9,
   "metadata": {},
   "outputs": [
    {
     "name": "stdout",
     "output_type": "stream",
     "text": [
      "Files already downloaded and verified\n",
      "Files already downloaded and verified\n"
     ]
    }
   ],
   "source": [
    "trainset = torchvision.datasets.CIFAR10(\n",
    "    root='./data',\n",
    "    train=True,\n",
    "    download=True,\n",
    "    transform=transform)\n",
    "\n",
    "testset = torchvision.datasets.CIFAR10(\n",
    "    root='./data',\n",
    "    train=False,\n",
    "    download=True,\n",
    "    transform=transform)"
   ]
  },
  {
   "cell_type": "code",
   "execution_count": 10,
   "metadata": {},
   "outputs": [],
   "source": [
    "trainloader = torch.utils.data.DataLoader(\n",
    "    trainset,\n",
    "    batch_size=batch_size,\n",
    "    shuffle=True,\n",
    "    num_workers=2)\n",
    "\n",
    "testloader = torch.utils.data.DataLoader(\n",
    "    testset,\n",
    "    batch_size=batch_size,\n",
    "    shuffle=False,\n",
    "    num_workers=2)"
   ]
  },
  {
   "cell_type": "code",
   "execution_count": 11,
   "metadata": {},
   "outputs": [],
   "source": [
    "classes = {'plane', 'car', 'bird', 'cat', 'deer', 'dog', 'frog', 'horse', 'ship', 'truck'}"
   ]
  },
  {
   "cell_type": "code",
   "execution_count": 12,
   "metadata": {},
   "outputs": [],
   "source": [
    "import matplotlib.pyplot as plt\n",
    "import numpy as np"
   ]
  },
  {
   "cell_type": "code",
   "execution_count": 13,
   "metadata": {},
   "outputs": [
    {
     "data": {
      "image/png": "[encoded data removed]",
      "text/plain": [
       "<Figure size 800x800 with 4 Axes>"
      ]
     },
     "metadata": {},
     "output_type": "display_data"
    }
   ],
   "source": [
    "figure = plt.figure(figsize=(8, 8))\n",
    "for i in range(1, batch_size + 1):\n",
    "    figure.add_subplot(1, batch_size, i)\n",
    "    img, label = next(iter(trainloader))\n",
    "    # img is originally something like (4, 3, 32, 32)\n",
    "    # transpose makes it (32, 32, 4, 3)\n",
    "    # indexing with 0s allows us to removes the 3rd and 4th dimesnion \n",
    "    # this allows the images to be displayed as 2d objects of (32, 32)\n",
    "    npimg = img.numpy().T\n",
    "    plt.imshow(npimg[:, :, 0, 0])"
   ]
  },
  {
   "cell_type": "code",
   "execution_count": 14,
   "metadata": {},
   "outputs": [],
   "source": [
    "import torch.nn as nn\n",
    "import torch.nn.functional as F"
   ]
  },
  {
   "cell_type": "code",
   "execution_count": 15,
   "metadata": {},
   "outputs": [],
   "source": [
    "class CNN(nn.Module):\n",
    "    def __init__(self):\n",
    "        super().__init__()\n",
    "        self.conv1 = nn.Conv2d(3, 6, 5)\n",
    "        self.pool = nn.MaxPool2d(2, 2)\n",
    "        self.conv2 = nn.Conv2d(6, 16, 5)\n",
    "        self.fc1 = nn.Linear(16 * 5 * 5, 120)\n",
    "        self.fc2 = nn.Linear(120, 84)\n",
    "        self.fc3 = nn.Linear(84, 10)  # final output has 10 classes\n",
    "\n",
    "    def forward(self, x):\n",
    "        x = self.pool(F.relu(self.conv1(x)))\n",
    "        x = self.pool(F.relu(self.conv2(x)))\n",
    "        # the '1' in flatten keeps the first dimension,\n",
    "        # which is the batch size 4\n",
    "        x = torch.flatten(x, 1) \n",
    "        x = F.relu(self.fc1(x))\n",
    "        x = F.relu(self.fc2(x))\n",
    "        x = self.fc3(x)\n",
    "        return x"
   ]
  },
  {
   "cell_type": "code",
   "execution_count": 16,
   "metadata": {},
   "outputs": [],
   "source": [
    "net = CNN()"
   ]
  },
  {
   "cell_type": "code",
   "execution_count": 17,
   "metadata": {},
   "outputs": [],
   "source": [
    "import torch.optim as optim"
   ]
  },
  {
   "cell_type": "code",
   "execution_count": 18,
   "metadata": {},
   "outputs": [],
   "source": [
    "logloss = nn.CrossEntropyLoss()\n",
    "optimizer = optim.SGD(net.parameters(), lr=0.01, momentum=0.9)"
   ]
  },
  {
   "cell_type": "code",
   "execution_count": 21,
   "metadata": {},
   "outputs": [
    {
     "name": "stdout",
     "output_type": "stream",
     "text": [
      "[1,  2000] loss: 2.303\n",
      "[1,  4000] loss: 2.306\n",
      "[1,  6000] loss: 2.308\n",
      "[1,  8000] loss: 2.307\n",
      "[1, 10000] loss: 2.305\n",
      "[1, 12000] loss: 2.306\n",
      "[2,  2000] loss: 2.306\n",
      "[2,  4000] loss: 2.302\n",
      "[2,  6000] loss: 2.310\n",
      "[2,  8000] loss: 2.308\n",
      "[2, 10000] loss: 2.309\n",
      "[2, 12000] loss: 2.308\n",
      "Finish training.\n"
     ]
    }
   ],
   "source": [
    "# remember, batch size is 4\n",
    "# so in the inner for loop, we are making updates\n",
    "#   4 data samples at a time\n",
    "for epoch in range(2):\n",
    "    running_loss = 0.0\n",
    "    for i, data in enumerate(trainloader, 0):\n",
    "        # because data is actually a list of lists\n",
    "        # it is [ [w/ 4 inputs], [w/ 4 labels] ]\n",
    "        inputs, labels = data\n",
    "        \n",
    "        # zero the parameter gradients\n",
    "        optimizer.zero_grad()\n",
    "\n",
    "        # run the inputs through network\n",
    "        # again, inputs is [[i], [i+1],...,[batch_size-2], [batch_size-1]]\n",
    "        outputs = net(inputs)\n",
    "        loss = logloss(outputs, labels)\n",
    "        loss.backward()\n",
    "        optimizer.step()\n",
    "\n",
    "        # prints\n",
    "        running_loss += loss.item()\n",
    "        if i%2000==1999: # every 2000 batches\n",
    "            print(f\"[{epoch+1}, {i+1:5d}] loss: {running_loss / 2000:.3f}\")\n",
    "\n",
    "            # reset loss sum!\n",
    "            # this is key because it allows us to see the loss for 2000 batches\n",
    "            # we should (and do) see the total loss reducing as the CNN is \n",
    "            #   trained on more samples\n",
    "            running_loss = 0.0\n",
    "\n",
    "print(\"Finish training.\")\n",
    "\n"
   ]
  },
  {
   "cell_type": "code",
   "execution_count": 22,
   "metadata": {},
   "outputs": [],
   "source": [
    "PATH = './cifar_net.pth'\n",
    "torch.save(net.state_dict(), PATH)"
   ]
  },
  {
   "cell_type": "code",
   "execution_count": 24,
   "metadata": {},
   "outputs": [],
   "source": [
    "# again, 4 at a time\n",
    "dataiter = iter(testloader)\n",
    "images, labels = next(dataiter)"
   ]
  },
  {
   "cell_type": "code",
   "execution_count": 40,
   "metadata": {},
   "outputs": [
    {
     "data": {
      "image/png": "[encoded data removed]",
      "text/plain": [
       "<Figure size 800x800 with 4 Axes>"
      ]
     },
     "metadata": {},
     "output_type": "display_data"
    }
   ],
   "source": [
    "figure = plt.figure(figsize=(8,8))\n",
    "for i in range(1, batch_size+1):\n",
    "    figure.add_subplot(1, batch_size, i)\n",
    "    image, label = next(iter(trainloader))\n",
    "    plt.imshow(image[0, 0, :, :])"
   ]
  },
  {
   "cell_type": "code",
   "execution_count": null,
   "metadata": {},
   "outputs": [],
   "source": []
  }
 ],
 "metadata": {
  "kernelspec": {
   "display_name": "Python 3.10.6 ('master-thesis-rqFFn_mi')",
   "language": "python",
   "name": "python3"
  },
  "language_info": {
   "codemirror_mode": {
    "name": "ipython",
    "version": 3
   },
   "file_extension": ".py",
   "mimetype": "text/x-python",
   "name": "python",
   "nbconvert_exporter": "python",
   "pygments_lexer": "ipython3",
   "version": "3.10.6"
  },
  "orig_nbformat": 4,
  "vscode": {
   "interpreter": {
    "hash": "6803830149994344f405acd158f41316c80d4030c2f52c5a61d6af244d3bc4b6"
   }
  }
 },
 "nbformat": 4,
 "nbformat_minor": 2
}
