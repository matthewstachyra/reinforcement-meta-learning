{
 "cells": [
  {
   "cell_type": "code",
   "execution_count": 544,
   "metadata": {},
   "outputs": [],
   "source": [
    "import math\n",
    "import random\n",
    "import datetime\n",
    "from collections import defaultdict\n",
    "from enum import Enum\n",
    "import numpy as np \n",
    "import torch\n",
    "import torch.nn.functional as F\n",
    "from torch.utils.data import Dataset\n",
    "from torch.utils.data import DataLoader\n",
    "from torch.nn import Module\n",
    "import gymnasium\n",
    "from typing import (\n",
    "    Type,\n",
    "    List,\n",
    "    Tuple,\n",
    ")\n",
    "import matplotlib.pyplot as plt\n",
    "import stable_baselines3\n",
    "from sb3_contrib import RecurrentPPO\n",
    "from stable_baselines3 import PPO, DQN\n",
    "import wandb"
   ]
  },
  {
   "attachments": {},
   "cell_type": "markdown",
   "metadata": {},
   "source": [
    "- See if there is transfer from learning regression models from a couple different sine curves to yet a different sine curve.\n",
    "- We know there is transfer is (1) it takes less to train and (2) if the model chooses to reuse layers rather than create new ones.\n",
    "- We first train regression models without the meta-learner (because the 'meta' ability cannot do anything without pre-trained weights).\n",
    "- The meta-learner will then output actions to build a model for unseen data.\n",
    "- Actions will be continuous, a vector of probabilities corresponding to which layer to add from the layer pool. One of these probabilities corresponds to adding no layer and just training the architecture as it is."
   ]
  },
  {
   "attachments": {},
   "cell_type": "markdown",
   "metadata": {},
   "source": [
    "## config"
   ]
  },
  {
   "cell_type": "code",
   "execution_count": 545,
   "metadata": {},
   "outputs": [
    {
     "data": {
      "text/plain": [
       "{'seed': 41,\n",
       " 'device': 'cuda',\n",
       " 'episodic': False,\n",
       " 'epochs': 5,\n",
       " 'timesteps': 10000,\n",
       " 'n_x': 100,\n",
       " 'n_tasks': 1,\n",
       " 'in_features': 1,\n",
       " 'out_features': 1,\n",
       " 'n_pool_hidden_layers': 10,\n",
       " 'n_layers_per_network': 5,\n",
       " 'n_nodes_per_layer': 32,\n",
       " 'pretrain': False,\n",
       " 'pool_layer_type': torch.nn.modules.linear.Linear,\n",
       " 'action_space_shape': (3,),\n",
       " 'epsilon': 0.1,\n",
       " 'batch_size': 1,\n",
       " 'learning_rate': 0.01,\n",
       " 'action_cache_size': 5,\n",
       " 'num_workers': 0,\n",
       " 'loss_fn': MSELoss(),\n",
       " 'sb3_model': 'RecurrentPPO',\n",
       " 'sb3_policy': 'MlpLstmPolicy',\n",
       " 'log_dir': 'log'}"
      ]
     },
     "execution_count": 545,
     "metadata": {},
     "output_type": "execute_result"
    }
   ],
   "source": [
    "default_config = {\n",
    "    'seed' : 41,\n",
    "    'device' : 'cuda',\n",
    "    'episodic' : False,\n",
    "    'epochs' : 5,\n",
    "    'timesteps' : 10000,\n",
    "    'n_x' : 100,\n",
    "    'n_tasks' : 1,\n",
    "    'in_features' : 1,\n",
    "    'out_features' : 1,\n",
    "    'n_pool_hidden_layers' : 10,\n",
    "    'n_layers_per_network' : 5,\n",
    "    'n_nodes_per_layer' : 32,\n",
    "    'pretrain' : False,\n",
    "    'pool_layer_type' : torch.nn.Linear,\n",
    "    'action_space_shape' : (3,),\n",
    "    'epsilon' : 0.1,\n",
    "    'batch_size' : 1,\n",
    "    'learning_rate' : 0.01,\n",
    "    'action_cache_size' : 5,\n",
    "    'num_workers' : 0,\n",
    "    'loss_fn' : torch.nn.MSELoss(),\n",
    "    'sb3_model' : 'RecurrentPPO',\n",
    "    'sb3_policy' : 'MlpLstmPolicy',\n",
    "    'log_dir' : 'log',\n",
    "    }\n",
    "config = default_config\n",
    "config"
   ]
  },
  {
   "cell_type": "code",
   "execution_count": 546,
   "metadata": {},
   "outputs": [
    {
     "data": {
      "text/html": [
       "Finishing last run (ID:z6n8ecoo) before initializing another..."
      ],
      "text/plain": [
       "<IPython.core.display.HTML object>"
      ]
     },
     "metadata": {},
     "output_type": "display_data"
    },
    {
     "data": {
      "text/html": [
       "Waiting for W&B process to finish... <strong style=\"color:green\">(success).</strong>"
      ],
      "text/plain": [
       "<IPython.core.display.HTML object>"
      ]
     },
     "metadata": {},
     "output_type": "display_data"
    },
    {
     "data": {
      "text/html": [
       "<style>\n",
       "    table.wandb td:nth-child(1) { padding: 0 10px; text-align: left ; width: auto;} td:nth-child(2) {text-align: left ; width: 100%}\n",
       "    .wandb-row { display: flex; flex-direction: row; flex-wrap: wrap; justify-content: flex-start; width: 100% }\n",
       "    .wandb-col { display: flex; flex-direction: column; flex-basis: 100%; flex: 1; padding: 10px; }\n",
       "    </style>\n",
       "<div class=\"wandb-row\"><div class=\"wandb-col\"><h3>Run history:</h3><br/><table class=\"wandb\"><tr><td>loss_task0_per_step</td><td>▁▁▁▁▁▁▁▁▁▁▁▁▁▂▁▁▁▁▁▁▁▁▁▁▁▁▁▁█▁▁▁▁▁▁▁▁▁▁▁</td></tr><tr><td>num_layers_task0_per_step</td><td>█████▁█▅██████████████▅▅███▅▅▅██▁███▅███</td></tr><tr><td>reward_task0_per_step</td><td>▇▁█▁█▁█▇████▇▁█▇████▁████▇███▇███▇██▁███</td></tr><tr><td>running_loss_task0_per_100steps</td><td>▁▁▁▁▁▁▁▁▁▁▁▁▁▁▁▁▁▁▁▁▁▁▁█▁▁▁▁▁▁▁▁▁▁▃▁▁▁▁▁</td></tr><tr><td>running_reward_task0_per_100steps</td><td>▆▆▆▆▆▆▆▆▆▆▆▆▆▆▆▆▆▆▆▆▆▆▇▁▆▆▅▆▆▆▆▆▆▆█▆▆▆▆▆</td></tr></table><br/></div><div class=\"wandb-col\"><h3>Run summary:</h3><br/><table class=\"wandb\"><tr><td>loss_task0_per_step</td><td>0.00026</td></tr><tr><td>num_layers_task0_per_step</td><td>5</td></tr><tr><td>reward_task0_per_step</td><td>-1</td></tr><tr><td>running_loss_task0_per_100steps</td><td>505.35828</td></tr><tr><td>running_reward_task0_per_100steps</td><td>-447.55142</td></tr></table><br/></div></div>"
      ],
      "text/plain": [
       "<IPython.core.display.HTML object>"
      ]
     },
     "metadata": {},
     "output_type": "display_data"
    },
    {
     "data": {
      "text/html": [
       " View run <strong style=\"color:#cdcd00\">driven-shadow-115</strong> at: <a href='https://wandb.ai/mattstachyra/reinforcement-meta-learning/runs/z6n8ecoo' target=\"_blank\">https://wandb.ai/mattstachyra/reinforcement-meta-learning/runs/z6n8ecoo</a><br/>Synced 6 W&B file(s), 2 media file(s), 0 artifact file(s) and 0 other file(s)"
      ],
      "text/plain": [
       "<IPython.core.display.HTML object>"
      ]
     },
     "metadata": {},
     "output_type": "display_data"
    },
    {
     "data": {
      "text/html": [
       "Find logs at: <code>.\\wandb\\run-20231109_093158-z6n8ecoo\\logs</code>"
      ],
      "text/plain": [
       "<IPython.core.display.HTML object>"
      ]
     },
     "metadata": {},
     "output_type": "display_data"
    },
    {
     "data": {
      "text/html": [
       "Successfully finished last run (ID:z6n8ecoo). Initializing new run:<br/>"
      ],
      "text/plain": [
       "<IPython.core.display.HTML object>"
      ]
     },
     "metadata": {},
     "output_type": "display_data"
    },
    {
     "data": {
      "text/html": [
       "wandb version 0.16.0 is available!  To upgrade, please run:\n",
       " $ pip install wandb --upgrade"
      ],
      "text/plain": [
       "<IPython.core.display.HTML object>"
      ]
     },
     "metadata": {},
     "output_type": "display_data"
    },
    {
     "data": {
      "text/html": [
       "Tracking run with wandb version 0.15.12"
      ],
      "text/plain": [
       "<IPython.core.display.HTML object>"
      ]
     },
     "metadata": {},
     "output_type": "display_data"
    },
    {
     "data": {
      "text/html": [
       "Run data is saved locally in <code>c:\\Users\\stach\\Documents\\masters-thesis\\src\\bounded-discrete\\wandb\\run-20231109_115933-fudrmoh9</code>"
      ],
      "text/plain": [
       "<IPython.core.display.HTML object>"
      ]
     },
     "metadata": {},
     "output_type": "display_data"
    },
    {
     "data": {
      "text/html": [
       "Syncing run <strong><a href='https://wandb.ai/mattstachyra/reinforcement-meta-learning/runs/fudrmoh9' target=\"_blank\">comfy-valley-124</a></strong> to <a href='https://wandb.ai/mattstachyra/reinforcement-meta-learning' target=\"_blank\">Weights & Biases</a> (<a href='https://wandb.me/run' target=\"_blank\">docs</a>)<br/>"
      ],
      "text/plain": [
       "<IPython.core.display.HTML object>"
      ]
     },
     "metadata": {},
     "output_type": "display_data"
    },
    {
     "data": {
      "text/html": [
       " View project at <a href='https://wandb.ai/mattstachyra/reinforcement-meta-learning' target=\"_blank\">https://wandb.ai/mattstachyra/reinforcement-meta-learning</a>"
      ],
      "text/plain": [
       "<IPython.core.display.HTML object>"
      ]
     },
     "metadata": {},
     "output_type": "display_data"
    },
    {
     "data": {
      "text/html": [
       " View run at <a href='https://wandb.ai/mattstachyra/reinforcement-meta-learning/runs/fudrmoh9' target=\"_blank\">https://wandb.ai/mattstachyra/reinforcement-meta-learning/runs/fudrmoh9</a>"
      ],
      "text/plain": [
       "<IPython.core.display.HTML object>"
      ]
     },
     "metadata": {},
     "output_type": "display_data"
    },
    {
     "data": {
      "text/html": [
       "<button onClick=\"this.nextSibling.style.display='block';this.style.display='none';\">Display W&B run</button><iframe src='https://wandb.ai/mattstachyra/reinforcement-meta-learning/runs/fudrmoh9?jupyter=true' style='border:none;width:100%;height:420px;display:none;'></iframe>"
      ],
      "text/plain": [
       "<wandb.sdk.wandb_run.Run at 0x1e593d876a0>"
      ]
     },
     "execution_count": 546,
     "metadata": {},
     "output_type": "execute_result"
    }
   ],
   "source": [
    "wandb.init(\n",
    "    project='reinforcement-meta-learning',\n",
    "    config=config\n",
    ")"
   ]
  },
  {
   "cell_type": "code",
   "execution_count": 547,
   "metadata": {},
   "outputs": [
    {
     "data": {
      "text/plain": [
       "True"
      ]
     },
     "execution_count": 547,
     "metadata": {},
     "output_type": "execute_result"
    }
   ],
   "source": [
    "torch.cuda.is_available()"
   ]
  },
  {
   "attachments": {},
   "cell_type": "markdown",
   "metadata": {},
   "source": [
    "## Reinforcement Meta-Learning (REML) / \"Learning to Learn by Gradient Descent as a Markov Decision Process\""
   ]
  },
  {
   "cell_type": "markdown",
   "metadata": {},
   "source": [
    "### sinusoidal curve regression as in MAML 2018 paper"
   ]
  },
  {
   "cell_type": "code",
   "execution_count": 548,
   "metadata": {},
   "outputs": [
    {
     "name": "stdout",
     "output_type": "stream",
     "text": [
      "[INFO] Tasks created.\n"
     ]
    }
   ],
   "source": [
    "lower_bound = torch.tensor(-5).float()\n",
    "upper_bound = torch.tensor(5).float()\n",
    "X = np.linspace(lower_bound, upper_bound, config['n_x'])\n",
    "amplitude_range = torch.tensor([0.1, 5.0]).float()\n",
    "phase_range = torch.tensor([0, math.pi]).float()\n",
    "amps = torch.from_numpy(np.linspace(amplitude_range[0], amplitude_range[1], config['n_tasks'])).float()\n",
    "phases = torch.from_numpy(np.linspace(phase_range[0], phase_range[1], config['n_tasks'])).float()\n",
    "tasks_data = torch.tensor(np.array([ \n",
    "        X\n",
    "        for _ in range(config['n_tasks'])\n",
    "        ])).float()\n",
    "tasks_targets = torch.tensor(np.array([\n",
    "        [((a * np.sin(x)) + p).float()\n",
    "        for x in X] \n",
    "        for a, p in zip(amps, phases)\n",
    "        ])).float()\n",
    "tasks_info = [\n",
    "        {'i' : i, \n",
    "         'amp' : a, \n",
    "         'phase_shift' : p, \n",
    "         'lower_bound' : lower_bound, \n",
    "         'upper_bound' : upper_bound, \n",
    "         'amplitude_range_lower_bound' : amplitude_range[0], \n",
    "         'amplitude_range_upper_bound' : amplitude_range[1], \n",
    "         'phase_range_lower_bound' : phase_range[0],\n",
    "         'phase_range_lower_bound' : phase_range[1]}\n",
    "        for i, (a, p) in enumerate(zip(amps, phases))\n",
    "]\n",
    "print(f'[INFO] Tasks created.')"
   ]
  },
  {
   "cell_type": "code",
   "execution_count": 549,
   "metadata": {},
   "outputs": [
    {
     "name": "stdout",
     "output_type": "stream",
     "text": [
      "torch.Size([1, 100])\n",
      "torch.float32\n",
      "torch.Size([1, 100])\n",
      "torch.float32\n",
      "1\n",
      "8\n"
     ]
    }
   ],
   "source": [
    "print(tasks_data.shape)\n",
    "print(tasks_data.dtype)\n",
    "print(tasks_targets.shape)\n",
    "print(tasks_targets.dtype)\n",
    "print(len(tasks_info))\n",
    "print(len(tasks_info[0]))"
   ]
  },
  {
   "cell_type": "code",
   "execution_count": 550,
   "metadata": {},
   "outputs": [],
   "source": [
    "class RegressionModel(torch.nn.Module):\n",
    "    def __init__(self):\n",
    "        super(RegressionModel, self).__init__()\n",
    "        self.layers = torch.nn.ModuleList([\n",
    "            torch.nn.Linear(1, 32),  \n",
    "            torch.nn.Linear(32, 32), \n",
    "            torch.nn.Linear(32, 32),  \n",
    "            torch.nn.Linear(32, 32),  \n",
    "            torch.nn.Linear(32, 1)  \n",
    "        ])\n",
    "\n",
    "    def forward(self, x):\n",
    "        for i in range(len(self.layers)-1):\n",
    "            x = torch.nn.functional.leaky_relu(self.layers[i](x))\n",
    "        x = self.layers[-1](x)\n",
    "        return x"
   ]
  },
  {
   "cell_type": "code",
   "execution_count": 551,
   "metadata": {},
   "outputs": [
    {
     "data": {
      "text/plain": [
       "RegressionModel(\n",
       "  (layers): ModuleList(\n",
       "    (0): Linear(in_features=1, out_features=32, bias=True)\n",
       "    (1-3): 3 x Linear(in_features=32, out_features=32, bias=True)\n",
       "    (4): Linear(in_features=32, out_features=1, bias=True)\n",
       "  )\n",
       ")"
      ]
     },
     "execution_count": 551,
     "metadata": {},
     "output_type": "execute_result"
    }
   ],
   "source": [
    "model = RegressionModel()\n",
    "model"
   ]
  },
  {
   "cell_type": "code",
   "execution_count": 552,
   "metadata": {},
   "outputs": [],
   "source": [
    "if config['pretrain']:\n",
    "    layers = []\n",
    "    data = []\n",
    "    layer_weights_means = []\n",
    "    layer_weights_stds = []\n",
    "    for x, y in zip(tasks_data, tasks_targets):\n",
    "        data.append([x,y])\n",
    "    # fig, axs = plt.subplots(config['n_tasks'], 1, figsize=(12, 15))\n",
    "    for i, (x, y) in enumerate(data):\n",
    "        model = RegressionModel()\n",
    "        criterion = torch.nn.MSELoss()\n",
    "        optimizer = torch.optim.Adam(model.parameters(), lr=0.001)\n",
    "\n",
    "        # train before graphing\n",
    "        num_epochs = 20000\n",
    "        model.train()\n",
    "        for epoch in range(num_epochs):\n",
    "            optimizer.zero_grad() \n",
    "            outputs = model(x.view(-1, 1))\n",
    "            loss = criterion(outputs, y.view(-1,1))\n",
    "            loss.backward()\n",
    "            optimizer.step()\n",
    "\n",
    "        # save layers for layer pool\n",
    "        layers.extend(model.layers)"
   ]
  },
  {
   "cell_type": "code",
   "execution_count": 553,
   "metadata": {},
   "outputs": [],
   "source": [
    "class LayerPool:\n",
    "    def __init__(self, \n",
    "                size: int=config['n_pool_hidden_layers'], \n",
    "                layer_constructor: Type[torch.nn.Linear]=config['pool_layer_type'],\n",
    "                in_features: int=config['in_features'],\n",
    "                out_features: int=config['out_features'],\n",
    "                num_nodes_per_layer: int=config['n_nodes_per_layer'],\n",
    "                layers: List[torch.nn.Linear]=None):\n",
    "        self.size = size if layers is None else len(layers)\n",
    "        self.layer_constructor = layer_constructor\n",
    "        self.in_features = in_features\n",
    "        self.out_features = out_features\n",
    "        self.num_nodes_per_layer = num_nodes_per_layer\n",
    "\n",
    "        if layers is None:\n",
    "            self.layers = [self.layer_constructor(in_features=num_nodes_per_layer, out_features=num_nodes_per_layer)\n",
    "                for _ in range(size)]\n",
    "            for _ in range(config['n_tasks']):\n",
    "                self.layers.append(self.layer_constructor(in_features=in_features, out_features=num_nodes_per_layer))\n",
    "                self.layers.append(self.layer_constructor(in_features=num_nodes_per_layer, out_features=out_features))\n",
    "            [torch.nn.init.xavier_uniform_(layer.weight) for layer in self.layers]\n",
    "        else:\n",
    "            self.layers = layers\n",
    "            config['n_pool_hidden_layers'] = len(self.layers)\n",
    "        \n",
    "    def __str__(self) -> str:\n",
    "        return f\"LayerPool(size={self.size}, layer_type={config['pool_layer_type']}, num_nodes_per_layer={config['n_nodes_per_layer']}\"\n"
   ]
  },
  {
   "cell_type": "code",
   "execution_count": 554,
   "metadata": {},
   "outputs": [],
   "source": [
    "class InnerNetworkAction(Enum):\n",
    "    TRAIN = 0\n",
    "    ADDTRAIN = 1\n",
    "    DELETETRAIN = 2\n",
    "    ERROR = 3"
   ]
  },
  {
   "cell_type": "code",
   "execution_count": 555,
   "metadata": {},
   "outputs": [],
   "source": [
    "class InnerNetworkTask(Dataset):\n",
    "    def __init__(self, data, targets, info):\n",
    "        self.data = data \n",
    "        self.targets = targets\n",
    "        self.info = info\n",
    "\n",
    "    def __len__(self):\n",
    "        assert len(self.data) == config['n_x'], '[ERROR] Length should be the same as N_X.'\n",
    "        return len(self.data)\n",
    "\n",
    "    def __getitem__(self, index):\n",
    "        assert self.data[index].dtype == torch.float32, f'[ERROR] Expected type torch.float32, got type: {self.data[index].dtype}'\n",
    "        assert self.targets[index].dtype == torch.float32, f'[ERROR] Expected type torch.float32, got type: {self.targets[index].dtype}'\n",
    "        sample = {\n",
    "            'x' : self.data[index],\n",
    "            'y' : self.targets[index],\n",
    "            'info' : self.info\n",
    "        }\n",
    "        return sample\n",
    "    \n",
    "    def __str__(self):\n",
    "        return f'[INFO] InnerNetworkTask(data={self.data, self.targets}, info={self.info})'"
   ]
  },
  {
   "cell_type": "code",
   "execution_count": 556,
   "metadata": {},
   "outputs": [],
   "source": [
    "# TODO is to move this to utils\n",
    "def get_params_and_gradients(layers):\n",
    "    num_layers = len(layers)\n",
    "    max_num_hidden_layers = config['n_layers_per_network'] - 2\n",
    "    num_hidden_layers = num_layers - 2\n",
    "    hidden_layers = layers[1:-1]\n",
    "    params = [layer.weight.detach() for layer in hidden_layers]\n",
    "    gradients = [layer.weight.grad for layer in hidden_layers]\n",
    "    if num_hidden_layers < config['n_layers_per_network'] - 2: # zero pad the difference \n",
    "        zero_pad = [torch.zeros((config['n_nodes_per_layer'], config['n_nodes_per_layer']), dtype=torch.float32)] * (max_num_hidden_layers - num_hidden_layers)\n",
    "        zero_pad_tensor = torch.stack(zero_pad)\n",
    "        if len(params) > 0 and len(gradients) > 0:\n",
    "            params = torch.stack(params)\n",
    "            gradients = torch.stack(gradients)\n",
    "            params = torch.cat((params, zero_pad_tensor))\n",
    "            gradients = torch.cat((gradients, zero_pad_tensor)) \n",
    "        else:\n",
    "            params = zero_pad_tensor\n",
    "            gradients = zero_pad_tensor\n",
    "    else:\n",
    "        params = torch.stack(params)\n",
    "        gradients = torch.stack(gradients)\n",
    "    assert params.shape==(max_num_hidden_layers, config['n_nodes_per_layer'], config['n_nodes_per_layer']), f\"[ERROR] Expected params shape={max_num_hidden_layers, config['n_nodes_per_layer'], config['n_nodes_per_layer']}, got {params.shape}\"\n",
    "    return params.view(-1), gradients.view(-1)"
   ]
  },
  {
   "cell_type": "code",
   "execution_count": 557,
   "metadata": {},
   "outputs": [
    {
     "data": {
      "text/plain": [
       "[tensor(0.1000), tensor(0.)]"
      ]
     },
     "execution_count": 557,
     "metadata": {},
     "output_type": "execute_result"
    }
   ],
   "source": [
    "[tasks_info[0]['amp'], tasks_info[0]['phase_shift']]"
   ]
  },
  {
   "cell_type": "code",
   "execution_count": 567,
   "metadata": {},
   "outputs": [],
   "source": [
    "class InnerNetwork(gymnasium.Env, Module):\n",
    "    def __init__(self, \n",
    "                epoch: int,\n",
    "                task: InnerNetworkTask,\n",
    "                layer_pool: LayerPool,\n",
    "                in_features: int=config['in_features'],\n",
    "                out_features: int=config['out_features'],\n",
    "                learning_rate: float=config['learning_rate'],\n",
    "                batch_size: int=config['batch_size'],\n",
    "                epsilon: float=config['epsilon'],\n",
    "                action_cache_size: float=config['action_cache_size'],\n",
    "                num_workers: int=config['num_workers'],\n",
    "                shuffle: bool=True,\n",
    "                ):\n",
    "        super(InnerNetwork, self).__init__()\n",
    "        self.epoch = epoch\n",
    "        self.learning_rate = learning_rate\n",
    "        self.epsilon = epsilon\n",
    "        self.layer_pool = layer_pool\n",
    "        self.task = task\n",
    "        self.in_features = in_features\n",
    "        self.out_features = out_features\n",
    "        self.batch_size = batch_size\n",
    "        self.shuffle = shuffle\n",
    "        self.action_cache_size = action_cache_size\n",
    "        self.alpha = torch.nn.Parameter(torch.Tensor([0.25]))\n",
    "        self.num_workers = num_workers\n",
    "        self.prev = defaultdict(lambda: None)\n",
    "        self.curr = defaultdict(lambda: None)\n",
    "        self.data_loader = DataLoader(task, batch_size=batch_size, shuffle=shuffle, num_workers=num_workers)\n",
    "        self.data_iter = iter(self.data_loader)\n",
    "        self.initial_layer = random.choice([layer for layer in self.layer_pool.layers if getattr(layer, 'in_features', None) == in_features])\n",
    "        self.final_layer = random.choice([layer for layer in self.layer_pool.layers if getattr(layer, 'out_features', None) == out_features])\n",
    "        self.layers = torch.nn.ModuleList([self.initial_layer, self.final_layer]) \n",
    "        self.layers_pool_indices = [self.layer_pool.layers.index(layer) for layer in self.layers] \n",
    "        self.loss_fn = torch.nn.MSELoss()\n",
    "        self.opt = torch.optim.Adam(self.layers.parameters(), lr=self.learning_rate)\n",
    "        self.actions_taken = [InnerNetworkAction.TRAIN] * config['action_cache_size']\n",
    "        self.next_batch()\n",
    "        self.run_inner_network()\n",
    "        self.observation_space = gymnasium.spaces.box.Box(low=float('-inf'), high=float('inf'), shape=self.build_state().shape)\n",
    "        self.action_space = gymnasium.spaces.discrete.Discrete(len(self.layer_pool.layers) * 3)\n",
    "        self.termination = False\n",
    "        # log internal variables\n",
    "        self.timestep = 0\n",
    "        self.cum_loss = 0\n",
    "        self.cum_reward = 0\n",
    "        self.errors = 0\n",
    "        self.rewards_per_episode = []\n",
    "        self.steps_per_episode = []\n",
    "        self.weight_means = defaultdict(lambda: [])\n",
    "        self.weight_stds = defaultdict(lambda: [])\n",
    "\n",
    "    def step(self, action: np.int64) -> Tuple[torch.Tensor, float, bool, dict]: \n",
    "        assert action.shape == (), f'[ERROR] Expected action shape () for scalar {self.action_space.n}, got: {action.shape}'\n",
    "        assert action.dtype == np.int64, f'[ERROR] Expected np.int64 dtype, got: {action.dtype}'\n",
    "\n",
    "        self.timestep += 1\n",
    "        self.train()\n",
    "        self.next_batch()\n",
    "        self.update_inner_network(action)\n",
    "        self.run_inner_network()\n",
    "        s_prime = self.build_state()\n",
    "        reward = self.reward()\n",
    "        self.update_internal_trackers()\n",
    "        self.log()\n",
    "\n",
    "        return (\n",
    "            s_prime,\n",
    "            reward, \n",
    "            self.termination,\n",
    "            False,\n",
    "            {}\n",
    "        )\n",
    "    \n",
    "    def decide_action_type(self, action: np.int64) -> np.int64:\n",
    "        if random.random() < self.epsilon: \n",
    "            action = random.randint(0, self.action_space.n - 1)\n",
    "        add_action_type = action < self.layer_pool.size\n",
    "        delete_action_type = action >= self.layer_pool.size and (action < self.layer_pool.size * 2)\n",
    "        if (add_action_type):\n",
    "            if (len(self.layers)==config['n_layers_per_network']):\n",
    "                self.curr['action_type'] = InnerNetworkAction.ERROR\n",
    "            elif self.layer_pool.layers[action].in_features==self.in_features or self.layer_pool.layers[action].out_features==self.out_features:\n",
    "                self.curr['action_type'] = InnerNetworkAction.ERROR\n",
    "            # limitation of layer pool design: can only use each layer once if updated the pool after\n",
    "            elif self.layer_pool.layers[action] in self.layers:\n",
    "                self.curr['action_type'] = InnerNetworkAction.ERROR\n",
    "            else:\n",
    "                self.curr['action_type'] = InnerNetworkAction.ADDTRAIN\n",
    "        elif (delete_action_type):\n",
    "            action = action - self.layer_pool.size\n",
    "            if (self.layer_pool.layers[action] not in self.layers):\n",
    "                self.curr['action_type'] = InnerNetworkAction.ERROR\n",
    "            elif self.layer_pool.layers[action].in_features==self.in_features or self.layer_pool.layers[action].out_features==self.out_features:\n",
    "                self.curr['action_type'] = InnerNetworkAction.ERROR\n",
    "            else:\n",
    "                self.curr['action_type'] = InnerNetworkAction.DELETETRAIN\n",
    "        else:\n",
    "            self.curr['action_type'] = InnerNetworkAction.TRAIN\n",
    "        self.actions_taken.append(self.curr['action_type']) \n",
    "        self.termination = True if config['episodic'] and self.curr['action_type']==InnerNetworkAction.ERROR else False\n",
    "        return action \n",
    "    \n",
    "    def update_inner_network(self, action: np.int64) -> None:\n",
    "        index = self.decide_action_type(action)\n",
    "        if (self.curr['action_type']==InnerNetworkAction.ADDTRAIN): \n",
    "            new_layer = self.layer_pool.layers[index]\n",
    "            final_layer = self.layers.pop(-1) \n",
    "            final_layer_index = self.layers_pool_indices.pop(-1)\n",
    "            self.layers.append(new_layer)\n",
    "            self.layers.append(final_layer) \n",
    "            self.layers_pool_indices.append(index)\n",
    "            self.layers_pool_indices.append(final_layer_index)\n",
    "        elif (self.curr['action_type']==InnerNetworkAction.DELETETRAIN):\n",
    "            prev_layers_length = len(self.layers)\n",
    "            index_within_layers = self.layers_pool_indices.index(index)\n",
    "            success = self.layers.pop(index_within_layers)\n",
    "            if success:\n",
    "                self.layers_pool_indices.pop(index_within_layers)\n",
    "            else:\n",
    "                raise Exception('[ERROR] Delete on inner network failed.')\n",
    "            assert prev_layers_length!=len(self.layers), '[ERROR] Delete on inner network failed.'\n",
    "            \n",
    "    def next_batch(self, throw_exception=False) -> None:\n",
    "        self.prev = self.curr\n",
    "        self.curr = defaultdict(lambda: None)\n",
    "\n",
    "        if (throw_exception):\n",
    "            batch = next(self.data_iter)\n",
    "            self.curr['x'] = batch['x']\n",
    "            self.curr['y'] = batch['y'] \n",
    "            self.curr['info'] = batch['info']\n",
    "        else: \n",
    "            try:\n",
    "                batch = next(self.data_iter)\n",
    "            except StopIteration:\n",
    "                self.data_loader = DataLoader(self.task, batch_size=self.batch_size, shuffle=self.shuffle, num_workers=self.num_workers)\n",
    "                self.data_iter = iter(self.data_loader)\n",
    "                batch = next(self.data_iter)\n",
    "            finally:\n",
    "                self.curr['x'] = batch['x']\n",
    "                self.curr['y'] = batch['y'] \n",
    "                self.curr['info'] = batch['info']\n",
    "    \n",
    "    def run_inner_network(self) -> None: \n",
    "        if self.training:\n",
    "            self.train()\n",
    "            self.opt = torch.optim.Adam(self.layers.parameters(), lr=self.learning_rate) \n",
    "            self.opt.zero_grad()\n",
    "            self.forward(self.curr['x'])\n",
    "            loss = self.curr['loss']\n",
    "            loss.backward()\n",
    "            params_before = [param.data.clone() for param in self.layers.parameters()]\n",
    "            self.opt.step()\n",
    "            params_after = [param.data.clone() for param in self.layers.parameters()]\n",
    "            for layers_index, (pool_index, param_before, param_after) in enumerate(zip(self.layers_pool_indices, params_before, params_after)):\n",
    "                if torch.all(torch.eq(param_before, param_after)):\n",
    "                    # print()\n",
    "                    print('[INFO] Layer in environment not updated.')\n",
    "                    # print(f'layer pool layer {pool_index} not updated')\n",
    "                    # print(f'layers layer {self.layers[layers_index]}')\n",
    "                    # print(f'weights {self.layers[layers_index].weight}')\n",
    "                    # print(f'gradients {self.layers[layers_index].weight.grad}')\n",
    "        else:\n",
    "            self.forward(self.curr['x'])\n",
    "\n",
    "    def forward(self, x) -> None:\n",
    "        for i in range(len(self.layers) - 1): \n",
    "            x = torch.nn.functional.leaky_relu(self.layers[i](x))\n",
    "        self.curr['latent_space'] = x\n",
    "        self.curr['y_hat'] = self.layers[-1](x) \n",
    "        self.curr['loss'] = self.loss_fn(self.curr['y'], self.curr['y_hat'])\n",
    "    \n",
    "    def build_state(self) -> np.ndarray:\n",
    "        task_info = torch.tensor([self.task.info['amp'], self.task.info['phase_shift']])\n",
    "        loss = torch.Tensor([self.curr['loss']])\n",
    "        _, gradients = get_params_and_gradients(self.layers)\n",
    "        one_hot_layers = torch.tensor(np.array([1 if self.layer_pool.layers[i] in self.layers else 0 for i in range(len(self.layer_pool.layers))]))\n",
    "        h = torch.tensor([action_enum.value for action_enum in self.actions_taken[-self.action_cache_size:]])\n",
    "        layer_indices = self.layers_pool_indices.copy()\n",
    "        while len(layer_indices) < config['n_layers_per_network']:\n",
    "            layer_indices.insert(0, 0)\n",
    "        layer_indices = torch.tensor(layer_indices)\n",
    "\n",
    "        return torch.concat((\n",
    "            task_info,\n",
    "            self.curr['latent_space'],\n",
    "            self.curr['y'],\n",
    "            self.curr['y_hat'], \n",
    "            layer_indices,\n",
    "            loss,\n",
    "            gradients,\n",
    "            one_hot_layers,\n",
    "            h\n",
    "        ), dim=0).detach().numpy()\n",
    "    \n",
    "    def reward(self) -> torch.Tensor:\n",
    "        prev_loss = self.prev['loss'] or None\n",
    "        curr_loss = self.curr['loss']\n",
    "        loss_delta = prev_loss - curr_loss if prev_loss is not None else curr_loss\n",
    "        if (self.curr['action_type'] == InnerNetworkAction.ERROR):\n",
    "            reward = -5\n",
    "        elif (self.curr['action_type'] == InnerNetworkAction.TRAIN):\n",
    "            reward = 1 if loss_delta > 0 else -1\n",
    "        else:\n",
    "            reward = 1 * (0.99 ** self.timestep) if loss_delta > 0 else -1 * (0.99 ** self.timestep)\n",
    "        self.curr['reward'] = reward\n",
    "        return reward\n",
    "\n",
    "    def update_internal_trackers(self) -> None:\n",
    "        self.cum_loss += self.curr['loss']\n",
    "        self.cum_reward += self.curr['reward']\n",
    "        if config['episodic'] and self.curr['action_type']==InnerNetworkAction.ERROR:\n",
    "            self.steps_per_episode.append(self.timestep)\n",
    "            self.rewards_per_episode.append(self.cum_reward)\n",
    "            self.errors += 1\n",
    "\n",
    "    def log(self):\n",
    "        task_num = str(self.curr['info']['i'].item())\n",
    "        if self.timestep%100==0 and not config['episodic']:\n",
    "            wandb.log({ f'running_loss_task{task_num}_per_100steps' : self.cum_loss})\n",
    "            wandb.log({ f'running_reward_task{task_num}_per_100steps' : self.cum_reward})\n",
    "            self.cum_loss = 0\n",
    "            self.cum_reward = 0\n",
    "        if (len(self.layers)!=0): wandb.log({ f'pool_indices_task{task_num}_per_step' : wandb.Histogram(torch.tensor(self.layers_pool_indices))})\n",
    "        wandb.log({ f'action_types_task{task_num}_per_step' : wandb.Histogram(torch.tensor([e.value for e in self.actions_taken]))})\n",
    "        wandb.log({ f'num_layers_task{task_num}_per_step' : len(self.layers) })\n",
    "        wandb.log({ f'loss_task{task_num}_per_step' : self.curr['loss'] })\n",
    "        wandb.log({ f'reward_task{task_num}_per_step' : self.curr['reward'] })\n",
    "\n",
    "    def reset(self, seed=None) -> np.ndarray:\n",
    "        print(f'[INFO] Reset at {self.timestep}')\n",
    "        self.timestep = 0\n",
    "        self.cum_reward = 0\n",
    "        self.cum_loss = 0\n",
    "        self.eval()\n",
    "        self.next_batch()\n",
    "        self.run_inner_network()\n",
    "        return self.build_state(), None"
   ]
  },
  {
   "cell_type": "code",
   "execution_count": 568,
   "metadata": {},
   "outputs": [],
   "source": [
    "class REML:\n",
    "    def __init__(\n",
    "        self,\n",
    "        layer_pool: LayerPool,\n",
    "        tasks: List[InnerNetworkTask],\n",
    "        model=config['sb3_model'],\n",
    "        policy=config['sb3_policy'],\n",
    "        epochs: int=config['epochs'],\n",
    "        timesteps: int=config['timesteps'],\n",
    "        device: str=config['device'],\n",
    "        overwrite: bool=True,  # TODO is to revisit this param\n",
    "        intra_update: bool=True, # TODO is to revisit this param\n",
    "        log_dir: str=f\"./{config['log_dir']}/{config['sb3_model']}_{datetime.datetime.now().strftime('%Y-%m-%d_%H-%M-%S')}\"\n",
    "        ):\n",
    "        self.layer_pool = layer_pool\n",
    "        self.tasks = tasks\n",
    "        if config['sb3_model']=='PPO':\n",
    "            self.model = PPO\n",
    "        elif config['sb3_model']=='RecurrentPPO':\n",
    "            self.model = RecurrentPPO\n",
    "        elif config['sb3_model']=='DQN':\n",
    "            self.model = DQN\n",
    "        self.policy = policy\n",
    "        self.epochs = epochs\n",
    "        self.timesteps = timesteps\n",
    "        self.device = device\n",
    "        self.overwrite = overwrite \n",
    "        self.intra_update = intra_update\n",
    "        self.log_dir = log_dir\n",
    "    \n",
    "    def __str__(self) -> str:\n",
    "        return f'REML(model={self.model}, policy={self.policy})'\n",
    "\n",
    "    def train(self):\n",
    "        # wraps stablebaselines learn() so we call it n * m times\n",
    "        # n is the number of epochs where we run all m tasks\n",
    "        # we use the same policy, swapping out envs for the n tasks, m times. \n",
    "        # therefore the number of steps is (timesteps)*(n)*(m)\n",
    "        for epoch in range(self.epochs):\n",
    "            print(f'[INFO] Epoch={epoch + 1}/{self.epochs}')\n",
    "            for i, task in enumerate(self.tasks): \n",
    "                print(f'[INFO] Task={i+1}/{len(self.tasks)}')\n",
    "\n",
    "                # each task gets its own network\n",
    "                self.env = gymnasium.wrappers.NormalizeObservation(InnerNetwork(epoch, task, self.layer_pool))\n",
    "                if i==0:\n",
    "                    model = self.model(self.policy, self.env, tensorboard_log=self.log_dir, n_epochs=5, batch_size=32, n_steps=32)\n",
    "                else: \n",
    "                    model.set_env(self.env)\n",
    "                model.learn(total_timesteps=self.timesteps)\n",
    "\n",
    "\t\t        # pool update\n",
    "                for pool_index in self.env.layers_pool_indices:\n",
    "                    index_within_layers = self.env.layers_pool_indices.index(pool_index)\n",
    "                    updated_pool_layer = self.env.layers[index_within_layers]\n",
    "                    self.layer_pool.layers[pool_index] = self.env.layers[index_within_layers]\n",
    "                    assert updated_pool_layer.in_features==self.layer_pool.layers[pool_index].in_features, '[ERROR] Pool layer to be updated did not match the environment layer.'\n",
    "                    assert updated_pool_layer.out_features==self.layer_pool.layers[pool_index].out_features, '[ERROR] Pool layer to be updated did not match the environment layer.'\n",
    "                    env_layer_params = [param.data.clone() for param in self.env.layers.parameters()]\n",
    "                    corresponding_pool_layer_params = [param.data.clone() for param in torch.nn.ModuleList([self.env.layer_pool.layers[index] for index in self.env.layers_pool_indices]).parameters()]\n",
    "                    for param_before, param_after in zip(env_layer_params, corresponding_pool_layer_params):\n",
    "                        if not torch.all(torch.eq(param_before, param_after)):\n",
    "                            print('[ERROR] Layers in pool not updated.')\n",
    "\n",
    "                # wandb \n",
    "                if config['episodic']:\n",
    "                    wandb.log({ f'average_reward_per_episode_task{i}_per_epoch' : sum(self.env.rewards_per_episode) / len(self.env.rewards_per_episode) }) \n",
    "                    wandb.log({ f'average_steps_per_episode_task{i}_per_epoch' : sum(self.env.steps_per_episode) / len(self.env.steps_per_episode) }) \n",
    "                    wandb.log({ f'errors_per_epoch_task{i}_per_epoch' : self.env.errors })\n",
    "\n",
    "                yhats = self.evaluate_inner_network()\n",
    "                plot_name = f'sine_curve_epoch_{epoch}_task_{i}'\n",
    "                plot_path = f'{self.log_dir}/{plot_name}.png'  \n",
    "                plt.figure()\n",
    "                plt.plot(self.env.task.data, [yhat.detach().numpy() for yhat in yhats])\n",
    "                plt.plot(self.env.task.data, self.env.task.targets)\n",
    "                plt.title(plot_name)\n",
    "                plt.savefig(plot_path)\n",
    "                wandb.log({plot_name: wandb.Image(plot_path)})\n",
    "\n",
    "    def evaluate_inner_network(self) -> List[torch.Tensor]:\n",
    "        self.env.eval()\n",
    "        y_hats = []\n",
    "        for x in X:\n",
    "            x = torch.Tensor([x])\n",
    "            for i in range(len(self.env.layers) - 1): \n",
    "                x = torch.nn.functional.leaky_relu(self.env.layers[i](x))\n",
    "            y_hats.append(self.env.layers[-1](x))\n",
    "        return y_hats"
   ]
  },
  {
   "attachments": {},
   "cell_type": "markdown",
   "metadata": {},
   "source": [
    "### testing"
   ]
  },
  {
   "cell_type": "code",
   "execution_count": 569,
   "metadata": {},
   "outputs": [],
   "source": [
    "tasks = [InnerNetworkTask(data=tasks_data[i], targets=tasks_targets[i], info=tasks_info[i]) for i in range(config['n_tasks'])]\n",
    "pool = LayerPool(layers=layers) if config['pretrain'] else LayerPool(layers=None)\n",
    "model = REML(layer_pool=pool, tasks=tasks)"
   ]
  },
  {
   "cell_type": "code",
   "execution_count": 570,
   "metadata": {},
   "outputs": [
    {
     "data": {
      "text/plain": [
       "\"REML(model=<class 'sb3_contrib.ppo_recurrent.ppo_recurrent.RecurrentPPO'>, policy=MlpLstmPolicy)\""
      ]
     },
     "execution_count": 570,
     "metadata": {},
     "output_type": "execute_result"
    }
   ],
   "source": [
    "model.__str__()"
   ]
  },
  {
   "cell_type": "code",
   "execution_count": 566,
   "metadata": {},
   "outputs": [
    {
     "name": "stdout",
     "output_type": "stream",
     "text": [
      "[INFO] Epoch=1/5\n",
      "[INFO] Task=1/1\n"
     ]
    },
    {
     "ename": "FileNotFoundError",
     "evalue": "[Errno 2] No such file or directory: './log/RecurrentPPO_2023-11-09_12-00-47/sine_curve_epoch_0_task_0.png'",
     "output_type": "error",
     "traceback": [
      "\u001b[1;31m---------------------------------------------------------------------------\u001b[0m",
      "\u001b[1;31mFileNotFoundError\u001b[0m                         Traceback (most recent call last)",
      "\u001b[1;32mc:\\Users\\stach\\Documents\\masters-thesis\\src\\bounded-discrete\\bounded-discrete.ipynb Cell 24\u001b[0m line \u001b[0;36m1\n\u001b[1;32m----> <a href='vscode-notebook-cell:/c%3A/Users/stach/Documents/masters-thesis/src/bounded-discrete/bounded-discrete.ipynb#X35sZmlsZQ%3D%3D?line=0'>1</a>\u001b[0m model\u001b[39m.\u001b[39;49mtrain()\n",
      "\u001b[1;32mc:\\Users\\stach\\Documents\\masters-thesis\\src\\bounded-discrete\\bounded-discrete.ipynb Cell 24\u001b[0m line \u001b[0;36m7\n\u001b[0;32m     <a href='vscode-notebook-cell:/c%3A/Users/stach/Documents/masters-thesis/src/bounded-discrete/bounded-discrete.ipynb#X35sZmlsZQ%3D%3D?line=75'>76</a>\u001b[0m plt\u001b[39m.\u001b[39mplot(\u001b[39mself\u001b[39m\u001b[39m.\u001b[39menv\u001b[39m.\u001b[39mtask\u001b[39m.\u001b[39mdata, \u001b[39mself\u001b[39m\u001b[39m.\u001b[39menv\u001b[39m.\u001b[39mtask\u001b[39m.\u001b[39mtargets)\n\u001b[0;32m     <a href='vscode-notebook-cell:/c%3A/Users/stach/Documents/masters-thesis/src/bounded-discrete/bounded-discrete.ipynb#X35sZmlsZQ%3D%3D?line=76'>77</a>\u001b[0m plt\u001b[39m.\u001b[39mtitle(plot_name)\n\u001b[1;32m---> <a href='vscode-notebook-cell:/c%3A/Users/stach/Documents/masters-thesis/src/bounded-discrete/bounded-discrete.ipynb#X35sZmlsZQ%3D%3D?line=77'>78</a>\u001b[0m plt\u001b[39m.\u001b[39;49msavefig(plot_path)\n\u001b[0;32m     <a href='vscode-notebook-cell:/c%3A/Users/stach/Documents/masters-thesis/src/bounded-discrete/bounded-discrete.ipynb#X35sZmlsZQ%3D%3D?line=78'>79</a>\u001b[0m wandb\u001b[39m.\u001b[39mlog({plot_name: wandb\u001b[39m.\u001b[39mImage(plot_path)})\n",
      "File \u001b[1;32mc:\\Users\\stach\\miniconda3\\envs\\masters-thesis\\lib\\site-packages\\matplotlib\\pyplot.py:966\u001b[0m, in \u001b[0;36msavefig\u001b[1;34m(*args, **kwargs)\u001b[0m\n\u001b[0;32m    963\u001b[0m \u001b[39m@_copy_docstring_and_deprecators\u001b[39m(Figure\u001b[39m.\u001b[39msavefig)\n\u001b[0;32m    964\u001b[0m \u001b[39mdef\u001b[39;00m \u001b[39msavefig\u001b[39m(\u001b[39m*\u001b[39margs, \u001b[39m*\u001b[39m\u001b[39m*\u001b[39mkwargs):\n\u001b[0;32m    965\u001b[0m     fig \u001b[39m=\u001b[39m gcf()\n\u001b[1;32m--> 966\u001b[0m     res \u001b[39m=\u001b[39m fig\u001b[39m.\u001b[39msavefig(\u001b[39m*\u001b[39margs, \u001b[39m*\u001b[39m\u001b[39m*\u001b[39mkwargs)\n\u001b[0;32m    967\u001b[0m     fig\u001b[39m.\u001b[39mcanvas\u001b[39m.\u001b[39mdraw_idle()   \u001b[39m# need this if 'transparent=True' to reset colors\u001b[39;00m\n\u001b[0;32m    968\u001b[0m     \u001b[39mreturn\u001b[39;00m res\n",
      "File \u001b[1;32mc:\\Users\\stach\\miniconda3\\envs\\masters-thesis\\lib\\site-packages\\matplotlib\\figure.py:3015\u001b[0m, in \u001b[0;36mFigure.savefig\u001b[1;34m(self, fname, transparent, **kwargs)\u001b[0m\n\u001b[0;32m   3012\u001b[0m         patch\u001b[39m.\u001b[39mset_facecolor(\u001b[39m'\u001b[39m\u001b[39mnone\u001b[39m\u001b[39m'\u001b[39m)\n\u001b[0;32m   3013\u001b[0m         patch\u001b[39m.\u001b[39mset_edgecolor(\u001b[39m'\u001b[39m\u001b[39mnone\u001b[39m\u001b[39m'\u001b[39m)\n\u001b[1;32m-> 3015\u001b[0m \u001b[39mself\u001b[39m\u001b[39m.\u001b[39mcanvas\u001b[39m.\u001b[39mprint_figure(fname, \u001b[39m*\u001b[39m\u001b[39m*\u001b[39mkwargs)\n\u001b[0;32m   3017\u001b[0m \u001b[39mif\u001b[39;00m transparent:\n\u001b[0;32m   3018\u001b[0m     \u001b[39mfor\u001b[39;00m ax, cc \u001b[39min\u001b[39;00m \u001b[39mzip\u001b[39m(\u001b[39mself\u001b[39m\u001b[39m.\u001b[39maxes, original_axes_colors):\n",
      "File \u001b[1;32mc:\\Users\\stach\\miniconda3\\envs\\masters-thesis\\lib\\site-packages\\matplotlib\\backend_bases.py:2255\u001b[0m, in \u001b[0;36mFigureCanvasBase.print_figure\u001b[1;34m(self, filename, dpi, facecolor, edgecolor, orientation, format, bbox_inches, pad_inches, bbox_extra_artists, backend, **kwargs)\u001b[0m\n\u001b[0;32m   2251\u001b[0m \u001b[39mtry\u001b[39;00m:\n\u001b[0;32m   2252\u001b[0m     \u001b[39m# _get_renderer may change the figure dpi (as vector formats\u001b[39;00m\n\u001b[0;32m   2253\u001b[0m     \u001b[39m# force the figure dpi to 72), so we need to set it again here.\u001b[39;00m\n\u001b[0;32m   2254\u001b[0m     \u001b[39mwith\u001b[39;00m cbook\u001b[39m.\u001b[39m_setattr_cm(\u001b[39mself\u001b[39m\u001b[39m.\u001b[39mfigure, dpi\u001b[39m=\u001b[39mdpi):\n\u001b[1;32m-> 2255\u001b[0m         result \u001b[39m=\u001b[39m print_method(\n\u001b[0;32m   2256\u001b[0m             filename,\n\u001b[0;32m   2257\u001b[0m             facecolor\u001b[39m=\u001b[39mfacecolor,\n\u001b[0;32m   2258\u001b[0m             edgecolor\u001b[39m=\u001b[39medgecolor,\n\u001b[0;32m   2259\u001b[0m             orientation\u001b[39m=\u001b[39morientation,\n\u001b[0;32m   2260\u001b[0m             bbox_inches_restore\u001b[39m=\u001b[39m_bbox_inches_restore,\n\u001b[0;32m   2261\u001b[0m             \u001b[39m*\u001b[39m\u001b[39m*\u001b[39mkwargs)\n\u001b[0;32m   2262\u001b[0m \u001b[39mfinally\u001b[39;00m:\n\u001b[0;32m   2263\u001b[0m     \u001b[39mif\u001b[39;00m bbox_inches \u001b[39mand\u001b[39;00m restore_bbox:\n",
      "File \u001b[1;32mc:\\Users\\stach\\miniconda3\\envs\\masters-thesis\\lib\\site-packages\\matplotlib\\backend_bases.py:1669\u001b[0m, in \u001b[0;36m_check_savefig_extra_args.<locals>.wrapper\u001b[1;34m(*args, **kwargs)\u001b[0m\n\u001b[0;32m   1661\u001b[0m     _api\u001b[39m.\u001b[39mwarn_deprecated(\n\u001b[0;32m   1662\u001b[0m         \u001b[39m'\u001b[39m\u001b[39m3.3\u001b[39m\u001b[39m'\u001b[39m, name\u001b[39m=\u001b[39mname,\n\u001b[0;32m   1663\u001b[0m         message\u001b[39m=\u001b[39m\u001b[39m'\u001b[39m\u001b[39m%(name)s\u001b[39;00m\u001b[39m() got unexpected keyword argument \u001b[39m\u001b[39m\"\u001b[39m\u001b[39m'\u001b[39m\n\u001b[0;32m   1664\u001b[0m                 \u001b[39m+\u001b[39m arg \u001b[39m+\u001b[39m \u001b[39m'\u001b[39m\u001b[39m\"\u001b[39m\u001b[39m which is no longer supported as of \u001b[39m\u001b[39m'\u001b[39m\n\u001b[0;32m   1665\u001b[0m                 \u001b[39m'\u001b[39m\u001b[39m%(since)s\u001b[39;00m\u001b[39m and will become an error \u001b[39m\u001b[39m'\u001b[39m\n\u001b[0;32m   1666\u001b[0m                 \u001b[39m'\u001b[39m\u001b[39m%(removal)s\u001b[39;00m\u001b[39m'\u001b[39m)\n\u001b[0;32m   1667\u001b[0m     kwargs\u001b[39m.\u001b[39mpop(arg)\n\u001b[1;32m-> 1669\u001b[0m \u001b[39mreturn\u001b[39;00m func(\u001b[39m*\u001b[39margs, \u001b[39m*\u001b[39m\u001b[39m*\u001b[39mkwargs)\n",
      "File \u001b[1;32mc:\\Users\\stach\\miniconda3\\envs\\masters-thesis\\lib\\site-packages\\matplotlib\\backends\\backend_agg.py:509\u001b[0m, in \u001b[0;36mFigureCanvasAgg.print_png\u001b[1;34m(self, filename_or_obj, metadata, pil_kwargs, *args)\u001b[0m\n\u001b[0;32m    462\u001b[0m \u001b[39m\u001b[39m\u001b[39m\"\"\"\u001b[39;00m\n\u001b[0;32m    463\u001b[0m \u001b[39mWrite the figure to a PNG file.\u001b[39;00m\n\u001b[0;32m    464\u001b[0m \n\u001b[1;32m   (...)\u001b[0m\n\u001b[0;32m    506\u001b[0m \u001b[39m    *metadata*, including the default 'Software' key.\u001b[39;00m\n\u001b[0;32m    507\u001b[0m \u001b[39m\"\"\"\u001b[39;00m\n\u001b[0;32m    508\u001b[0m FigureCanvasAgg\u001b[39m.\u001b[39mdraw(\u001b[39mself\u001b[39m)\n\u001b[1;32m--> 509\u001b[0m mpl\u001b[39m.\u001b[39;49mimage\u001b[39m.\u001b[39;49mimsave(\n\u001b[0;32m    510\u001b[0m     filename_or_obj, \u001b[39mself\u001b[39;49m\u001b[39m.\u001b[39;49mbuffer_rgba(), \u001b[39mformat\u001b[39;49m\u001b[39m=\u001b[39;49m\u001b[39m\"\u001b[39;49m\u001b[39mpng\u001b[39;49m\u001b[39m\"\u001b[39;49m, origin\u001b[39m=\u001b[39;49m\u001b[39m\"\u001b[39;49m\u001b[39mupper\u001b[39;49m\u001b[39m\"\u001b[39;49m,\n\u001b[0;32m    511\u001b[0m     dpi\u001b[39m=\u001b[39;49m\u001b[39mself\u001b[39;49m\u001b[39m.\u001b[39;49mfigure\u001b[39m.\u001b[39;49mdpi, metadata\u001b[39m=\u001b[39;49mmetadata, pil_kwargs\u001b[39m=\u001b[39;49mpil_kwargs)\n",
      "File \u001b[1;32mc:\\Users\\stach\\miniconda3\\envs\\masters-thesis\\lib\\site-packages\\matplotlib\\image.py:1616\u001b[0m, in \u001b[0;36mimsave\u001b[1;34m(fname, arr, vmin, vmax, cmap, format, origin, dpi, metadata, pil_kwargs)\u001b[0m\n\u001b[0;32m   1614\u001b[0m pil_kwargs\u001b[39m.\u001b[39msetdefault(\u001b[39m\"\u001b[39m\u001b[39mformat\u001b[39m\u001b[39m\"\u001b[39m, \u001b[39mformat\u001b[39m)\n\u001b[0;32m   1615\u001b[0m pil_kwargs\u001b[39m.\u001b[39msetdefault(\u001b[39m\"\u001b[39m\u001b[39mdpi\u001b[39m\u001b[39m\"\u001b[39m, (dpi, dpi))\n\u001b[1;32m-> 1616\u001b[0m image\u001b[39m.\u001b[39msave(fname, \u001b[39m*\u001b[39m\u001b[39m*\u001b[39mpil_kwargs)\n",
      "File \u001b[1;32mc:\\Users\\stach\\miniconda3\\envs\\masters-thesis\\lib\\site-packages\\PIL\\Image.py:2410\u001b[0m, in \u001b[0;36mImage.save\u001b[1;34m(self, fp, format, **params)\u001b[0m\n\u001b[0;32m   2408\u001b[0m         fp \u001b[39m=\u001b[39m builtins\u001b[39m.\u001b[39mopen(filename, \u001b[39m\"\u001b[39m\u001b[39mr+b\u001b[39m\u001b[39m\"\u001b[39m)\n\u001b[0;32m   2409\u001b[0m     \u001b[39melse\u001b[39;00m:\n\u001b[1;32m-> 2410\u001b[0m         fp \u001b[39m=\u001b[39m builtins\u001b[39m.\u001b[39;49mopen(filename, \u001b[39m\"\u001b[39;49m\u001b[39mw+b\u001b[39;49m\u001b[39m\"\u001b[39;49m)\n\u001b[0;32m   2412\u001b[0m \u001b[39mtry\u001b[39;00m:\n\u001b[0;32m   2413\u001b[0m     save_handler(\u001b[39mself\u001b[39m, fp, filename)\n",
      "\u001b[1;31mFileNotFoundError\u001b[0m: [Errno 2] No such file or directory: './log/RecurrentPPO_2023-11-09_12-00-47/sine_curve_epoch_0_task_0.png'"
     ]
    },
    {
     "data": {
      "image/png": "[encoded data removed]",
      "text/plain": [
       "<Figure size 640x480 with 1 Axes>"
      ]
     },
     "metadata": {},
     "output_type": "display_data"
    }
   ],
   "source": [
    "model.train()"
   ]
  },
  {
   "cell_type": "code",
   "execution_count": null,
   "metadata": {},
   "outputs": [],
   "source": []
  },
  {
   "cell_type": "code",
   "execution_count": null,
   "metadata": {},
   "outputs": [],
   "source": []
  },
  {
   "cell_type": "code",
   "execution_count": null,
   "metadata": {},
   "outputs": [],
   "source": []
  },
  {
   "cell_type": "code",
   "execution_count": null,
   "metadata": {},
   "outputs": [],
   "source": []
  },
  {
   "attachments": {},
   "cell_type": "markdown",
   "metadata": {},
   "source": [
    "### Loss w/ transfer vs. w/o transfer"
   ]
  },
  {
   "cell_type": "code",
   "execution_count": null,
   "metadata": {},
   "outputs": [
    {
     "data": {
      "image/png": "[encoded data removed]",
      "text/plain": [
       "<Figure size 800x1500 with 8 Axes>"
      ]
     },
     "metadata": {},
     "output_type": "display_data"
    }
   ],
   "source": [
    "# PRINT PLOTS\n",
    "rows = 2\n",
    "cols = 4\n",
    "fig, axs = plt.subplots(rows, cols, sharex=True, sharey=True, figsize=(8,15))\n",
    "k = 0\n",
    "for i in range(rows):\n",
    "    for j in range(cols):\n",
    "        task = list(task_to_yhats.keys())[k]\n",
    "        y_hats = task_to_yhats[task]\n",
    "        axs[i, j].plot(X, [y_hat.detach().numpy() for y_hat in y_hats])\n",
    "        axs[i, j].plot(X, list(tasks.items())[k][1])\n",
    "        axs[i,j].set_title(task)\n",
    "        k+=1"
   ]
  }
 ],
 "metadata": {
  "kernelspec": {
   "display_name": "Python 3",
   "language": "python",
   "name": "python3"
  },
  "language_info": {
   "codemirror_mode": {
    "name": "ipython",
    "version": 3
   },
   "file_extension": ".py",
   "mimetype": "text/x-python",
   "name": "python",
   "nbconvert_exporter": "python",
   "pygments_lexer": "ipython3",
   "version": "3.10.13"
  },
  "orig_nbformat": 4
 },
 "nbformat": 4,
 "nbformat_minor": 2
}
